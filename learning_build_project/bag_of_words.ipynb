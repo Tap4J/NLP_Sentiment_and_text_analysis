{
 "cells": [
  {
   "cell_type": "markdown",
   "id": "f207d585-a2c7-4d98-8a7e-6405246b5465",
   "metadata": {},
   "source": [
    "# Bag of Words with scikit-learn\n",
    "<p> Using bag of words and vectorizer to find out solution."
   ]
  },
  {
   "cell_type": "code",
   "execution_count": 1,
   "id": "16d8d38d-f400-442a-855c-4df6e7e7c6be",
   "metadata": {},
   "outputs": [],
   "source": [
    "import import_ipynb\n",
    "\n",
    "from data.goldman_emma_raw import goldman_docs\n",
    "from data.henson_matthew_raw import henson_docs\n",
    "from data.wu_tingfang_raw import wu_docs\n",
    "from sklearn.feature_extraction.text import CountVectorizer \n",
    "from sklearn.naive_bayes import MultinomialNB"
   ]
  },
  {
   "cell_type": "markdown",
   "id": "44fad7ed-4b33-4123-81f6-1a7b470750f5",
   "metadata": {},
   "source": [
    "### Task: Determine who wrote the text"
   ]
  },
  {
   "cell_type": "markdown",
   "id": "7c048629-50b4-4efb-b744-d4192cf58c0c",
   "metadata": {},
   "source": [
    "**Determine the following text and assign the most probable friend**"
   ]
  },
  {
   "cell_type": "code",
   "execution_count": 5,
   "id": "3f315501-0f42-4e9b-b4b3-3673cff2e65b",
   "metadata": {},
   "outputs": [],
   "source": [
    "mystery_postcard = \"\"\"\n",
    "My friend,\n",
    "From the 10th of July to the 13th, a fierce storm raged, clouds of\n",
    "freeing spray broke over the ship, incasing her in a coat of icy mail,\n",
    "and the tempest forced all of the ice out of the lower end of the\n",
    "channel and beyond as far as the eye could see, but the _Roosevelt_\n",
    "still remained surrounded by ice.\n",
    "Hope to see you soon.\n",
    "\"\"\""
   ]
  },
  {
   "cell_type": "markdown",
   "id": "93d2afff-ae14-4c30-9b8b-db2fb6fc78f9",
   "metadata": {},
   "source": [
    "<p>Setting up the combined list and labels of friends' writing samples</p>"
   ]
  },
  {
   "cell_type": "code",
   "execution_count": 6,
   "id": "19ef9043-4bbf-4997-8fe2-775e8a7a944c",
   "metadata": {},
   "outputs": [],
   "source": [
    "friends_docs = goldman_docs + henson_docs + wu_docs\n",
    "friends_labels = [1] * 154 + [2] * 141 + [3] * 166"
   ]
  },
  {
   "cell_type": "markdown",
   "id": "2ea51bc4-0a45-49ac-8562-e232782a51f3",
   "metadata": {},
   "source": [
    "**Create bow_vectorizer, definying vectors**"
   ]
  },
  {
   "cell_type": "code",
   "execution_count": 8,
   "id": "409da20d-7b97-4c96-833c-1c99a8d7404b",
   "metadata": {},
   "outputs": [],
   "source": [
    "bow_vectorizer = CountVectorizer()\n",
    "friends_vectors = bow_vectorizer.fit_transform(friends_docs)\n",
    "mystery_vector = bow_vectorizer.transform([mystery_postcard])"
   ]
  },
  {
   "cell_type": "markdown",
   "id": "bc329202-145f-42ac-86b1-5ff8093d273c",
   "metadata": {},
   "source": [
    "**Classifier and training + predictions**"
   ]
  },
  {
   "cell_type": "code",
   "execution_count": 9,
   "id": "4e98f1df-ca00-4346-a08f-afab0cd22a97",
   "metadata": {},
   "outputs": [],
   "source": [
    "friends_classifier = MultinomialNB()\n",
    "friends_classifier.fit(friends_vectors, friends_labels)\n",
    "predictions = friends_classifier.predict(mystery_vector)"
   ]
  },
  {
   "cell_type": "code",
   "execution_count": 10,
   "id": "7b26059e-40f1-43ec-b93c-b3455a18d7f9",
   "metadata": {},
   "outputs": [
    {
     "name": "stdout",
     "output_type": "stream",
     "text": [
      "The postcard was from 2!\n"
     ]
    }
   ],
   "source": [
    "mystery_friend = predictions[0] if predictions[0] else \"someone else\"\n",
    "print(\"The postcard was from {}!\".format(mystery_friend))"
   ]
  },
  {
   "cell_type": "markdown",
   "id": "a5123e98-ccf3-42e3-a610-38529b5709ab",
   "metadata": {},
   "source": [
    "## Solution: The postcard was from friend number 2, thus Henson!"
   ]
  },
  {
   "cell_type": "code",
   "execution_count": null,
   "id": "0472a75b-6dae-4659-a208-3c14b47b0d00",
   "metadata": {},
   "outputs": [],
   "source": []
  }
 ],
 "metadata": {
  "kernelspec": {
   "display_name": "Python 3 (ipykernel)",
   "language": "python",
   "name": "python3"
  },
  "language_info": {
   "codemirror_mode": {
    "name": "ipython",
    "version": 3
   },
   "file_extension": ".py",
   "mimetype": "text/x-python",
   "name": "python",
   "nbconvert_exporter": "python",
   "pygments_lexer": "ipython3",
   "version": "3.12.7"
  }
 },
 "nbformat": 4,
 "nbformat_minor": 5
}
