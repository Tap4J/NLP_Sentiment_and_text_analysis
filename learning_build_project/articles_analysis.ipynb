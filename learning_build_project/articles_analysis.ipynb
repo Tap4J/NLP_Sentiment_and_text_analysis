{
 "cells": [
  {
   "cell_type": "markdown",
   "id": "6de37693-f4b1-4533-b27c-4debdd9e11d1",
   "metadata": {},
   "source": [
    "# Article analysis with tf-idf\n",
    "<p> Using frequency-inverse document frequency (tf-idf) to analyze  article content"
   ]
  },
  {
   "cell_type": "code",
   "execution_count": 2,
   "id": "b519adc1-5303-4d23-911b-637f15b6141f",
   "metadata": {},
   "outputs": [],
   "source": [
    "import pandas as pd\n",
    "import numpy as np\n",
    "\n",
    "import sys\n",
    "import seaborn as sns\n",
    "from sklearn.feature_extraction.text import CountVectorizer, TfidfTransformer, TfidfVectorizer"
   ]
  },
  {
   "cell_type": "code",
   "execution_count": 3,
   "id": "106cb386-dc86-4fa4-a3bd-53c8d5439642",
   "metadata": {},
   "outputs": [
    {
     "ename": "ModuleNotFoundError",
     "evalue": "No module named 'nltk'",
     "output_type": "error",
     "traceback": [
      "\u001b[1;31m---------------------------------------------------------------------------\u001b[0m",
      "\u001b[1;31mModuleNotFoundError\u001b[0m                       Traceback (most recent call last)",
      "Cell \u001b[1;32mIn[3], line 2\u001b[0m\n\u001b[0;32m      1\u001b[0m sys\u001b[38;5;241m.\u001b[39mpath\u001b[38;5;241m.\u001b[39mappend(\u001b[38;5;124m'\u001b[39m\u001b[38;5;124m..\u001b[39m\u001b[38;5;124m'\u001b[39m)\n\u001b[1;32m----> 2\u001b[0m \u001b[38;5;28;01mfrom\u001b[39;00m \u001b[38;5;21;01mpreprocessing\u001b[39;00m \u001b[38;5;28;01mimport\u001b[39;00m preprocess_text\n",
      "File \u001b[1;32m~\\Desktop\\NLP_Sentiment_analysis\\learning_build_project\\..\\preprocessing.py:1\u001b[0m\n\u001b[1;32m----> 1\u001b[0m \u001b[38;5;28;01mimport\u001b[39;00m \u001b[38;5;21;01mnltk\u001b[39;00m\u001b[38;5;241m,\u001b[39m \u001b[38;5;21;01mre\u001b[39;00m\n\u001b[0;32m      2\u001b[0m \u001b[38;5;28;01mfrom\u001b[39;00m \u001b[38;5;21;01mnltk\u001b[39;00m\u001b[38;5;21;01m.\u001b[39;00m\u001b[38;5;21;01mcorpus\u001b[39;00m \u001b[38;5;28;01mimport\u001b[39;00m wordnet\n\u001b[0;32m      3\u001b[0m \u001b[38;5;28;01mfrom\u001b[39;00m \u001b[38;5;21;01mnltk\u001b[39;00m\u001b[38;5;21;01m.\u001b[39;00m\u001b[38;5;21;01mcorpus\u001b[39;00m \u001b[38;5;28;01mimport\u001b[39;00m stopwords\n",
      "\u001b[1;31mModuleNotFoundError\u001b[0m: No module named 'nltk'"
     ]
    }
   ],
   "source": [
    "sys.path.append('..')\n",
    "from preprocessing import preprocess_text"
   ]
  },
  {
   "cell_type": "markdown",
   "id": "882fb51e-0a48-4139-a80e-fa994692a567",
   "metadata": {},
   "source": [
    "**1. Read data**"
   ]
  },
  {
   "cell_type": "code",
   "execution_count": 183,
   "id": "d703e130-921b-44e1-ac84-8d1348e6bea9",
   "metadata": {},
   "outputs": [
    {
     "data": {
      "text/html": [
       "<div>\n",
       "<style scoped>\n",
       "    .dataframe tbody tr th:only-of-type {\n",
       "        vertical-align: middle;\n",
       "    }\n",
       "\n",
       "    .dataframe tbody tr th {\n",
       "        vertical-align: top;\n",
       "    }\n",
       "\n",
       "    .dataframe thead th {\n",
       "        text-align: right;\n",
       "    }\n",
       "</style>\n",
       "<table border=\"1\" class=\"dataframe\">\n",
       "  <thead>\n",
       "    <tr style=\"text-align: right;\">\n",
       "      <th></th>\n",
       "      <th>Article</th>\n",
       "      <th>Date</th>\n",
       "      <th>Heading</th>\n",
       "      <th>NewsType</th>\n",
       "    </tr>\n",
       "  </thead>\n",
       "  <tbody>\n",
       "    <tr>\n",
       "      <th>0</th>\n",
       "      <td>KARACHI: The Sindh government has decided to b...</td>\n",
       "      <td>1/1/2015</td>\n",
       "      <td>sindh govt decides to cut public transport far...</td>\n",
       "      <td>business</td>\n",
       "    </tr>\n",
       "    <tr>\n",
       "      <th>1</th>\n",
       "      <td>HONG KONG: Asian markets started 2015 on an up...</td>\n",
       "      <td>1/2/2015</td>\n",
       "      <td>asia stocks up in new year trad</td>\n",
       "      <td>business</td>\n",
       "    </tr>\n",
       "    <tr>\n",
       "      <th>2</th>\n",
       "      <td>HONG KONG:  Hong Kong shares opened 0.66 perce...</td>\n",
       "      <td>1/5/2015</td>\n",
       "      <td>hong kong stocks open 0.66 percent lower</td>\n",
       "      <td>business</td>\n",
       "    </tr>\n",
       "    <tr>\n",
       "      <th>3</th>\n",
       "      <td>HONG KONG: Asian markets tumbled Tuesday follo...</td>\n",
       "      <td>1/6/2015</td>\n",
       "      <td>asian stocks sink euro near nine year</td>\n",
       "      <td>business</td>\n",
       "    </tr>\n",
       "    <tr>\n",
       "      <th>4</th>\n",
       "      <td>NEW YORK: US oil prices Monday slipped below $...</td>\n",
       "      <td>1/6/2015</td>\n",
       "      <td>us oil prices slip below 50 a barr</td>\n",
       "      <td>business</td>\n",
       "    </tr>\n",
       "  </tbody>\n",
       "</table>\n",
       "</div>"
      ],
      "text/plain": [
       "                                             Article      Date  \\\n",
       "0  KARACHI: The Sindh government has decided to b...  1/1/2015   \n",
       "1  HONG KONG: Asian markets started 2015 on an up...  1/2/2015   \n",
       "2  HONG KONG:  Hong Kong shares opened 0.66 perce...  1/5/2015   \n",
       "3  HONG KONG: Asian markets tumbled Tuesday follo...  1/6/2015   \n",
       "4  NEW YORK: US oil prices Monday slipped below $...  1/6/2015   \n",
       "\n",
       "                                             Heading  NewsType  \n",
       "0  sindh govt decides to cut public transport far...  business  \n",
       "1                    asia stocks up in new year trad  business  \n",
       "2           hong kong stocks open 0.66 percent lower  business  \n",
       "3             asian stocks sink euro near nine year   business  \n",
       "4                 us oil prices slip below 50 a barr  business  "
      ]
     },
     "execution_count": 183,
     "metadata": {},
     "output_type": "execute_result"
    }
   ],
   "source": [
    "df = pd.read_csv('data/Articles.csv', encoding='ISO-8859-1')\n",
    "df.head()"
   ]
  },
  {
   "cell_type": "code",
   "execution_count": 184,
   "id": "159ff3fb-7146-4d1b-a571-abbeea5bd244",
   "metadata": {},
   "outputs": [
    {
     "data": {
      "text/plain": [
       "(2692, 4)"
      ]
     },
     "execution_count": 184,
     "metadata": {},
     "output_type": "execute_result"
    }
   ],
   "source": [
    "df.shape"
   ]
  },
  {
   "cell_type": "markdown",
   "id": "10e55f57-c776-4daa-8e1e-175a0dd8b5fa",
   "metadata": {},
   "source": [
    "**2. Extract the Article column as a list**"
   ]
  },
  {
   "cell_type": "code",
   "execution_count": 185,
   "id": "d56d3679-a8e9-4e33-8435-1cbcd1afcbe0",
   "metadata": {},
   "outputs": [
    {
     "name": "stdout",
     "output_type": "stream",
     "text": [
      "ISLAMABAD: The federal government on Thursday agreed to slash withholding tax on bank transactions to 0.3 percent, after a successful round of talks with the representatives of traders.Federal Finance Minister, Ishaq Dar said the government is ready to cut down the withholding tax on bank transaction from 0.6 percent to 0.3.He, however, said that those traders who failed to file income tax returns by September 30 would be charged the withholding tax on bank transactions at the rate of 0.6 percent.Earlier, the government had decided in the budget of 2015-16 to charge 0.6 percent withholding tax on bank transactions of Rs50,000 or more from non-filers. \n",
      "\n",
      "\n",
      "\n",
      "\n",
      "\n",
      "\n",
      "\n",
      "\n",
      "\n",
      "\n",
      "\n"
     ]
    }
   ],
   "source": [
    "articles = df['Article'].tolist()\n",
    "print(articles[200])"
   ]
  },
  {
   "cell_type": "code",
   "execution_count": 186,
   "id": "dca6b4f9-2731-41da-8bcb-b0e03434e3ac",
   "metadata": {},
   "outputs": [
    {
     "data": {
      "text/plain": [
       "2692"
      ]
     },
     "execution_count": 186,
     "metadata": {},
     "output_type": "execute_result"
    }
   ],
   "source": [
    "len(articles)"
   ]
  },
  {
   "cell_type": "markdown",
   "id": "61c89f12-ba95-4cf9-8265-10c0a64e4399",
   "metadata": {},
   "source": [
    "**3. Preprocess data**"
   ]
  },
  {
   "cell_type": "code",
   "execution_count": 187,
   "id": "910cc5a0-3b0b-45cf-bb9c-14e42586fce3",
   "metadata": {},
   "outputs": [],
   "source": [
    "processed_articles = [preprocess_text(article) for article in articles]"
   ]
  },
  {
   "cell_type": "markdown",
   "id": "8174ee25-c53d-4f51-bcd0-0f217dd615ad",
   "metadata": {},
   "source": [
    "**4. Initialize and fit CountVectorizer, then convert to TfidfTransformer and fit and transform**"
   ]
  },
  {
   "cell_type": "code",
   "execution_count": 188,
   "id": "6d791f18-7c1f-4dd9-9f45-92b2f6546317",
   "metadata": {},
   "outputs": [],
   "source": [
    "vectorizer = CountVectorizer()\n",
    "counts = vectorizer.fit_transform(processed_articles)"
   ]
  },
  {
   "cell_type": "code",
   "execution_count": 189,
   "id": "4d7e1e15-c197-492b-a5f0-e5b2402f27fc",
   "metadata": {},
   "outputs": [],
   "source": [
    "transformer = TfidfTransformer(norm=None)\n",
    "tfidf_scores_transformed = transformer.fit_transform(counts)"
   ]
  },
  {
   "cell_type": "markdown",
   "id": "d4b1610f-b743-4949-8854-a6b80543ef94",
   "metadata": {},
   "source": [
    "**5. Initialize and fit and transform TfidfVectorizer**"
   ]
  },
  {
   "cell_type": "code",
   "execution_count": 191,
   "id": "96b9cc81-9788-4704-9e2b-469438034007",
   "metadata": {},
   "outputs": [],
   "source": [
    "vectorizer = TfidfVectorizer(norm=None)\n",
    "tfidf_scores = vectorizer.fit_transform(processed_articles)"
   ]
  },
  {
   "cell_type": "markdown",
   "id": "f6c8cc48-b104-478a-8827-53ec52cc9479",
   "metadata": {},
   "source": [
    "**6. Check if scores match**"
   ]
  },
  {
   "cell_type": "code",
   "execution_count": 192,
   "id": "3d93f930-467d-46d5-ba71-c744237501b7",
   "metadata": {},
   "outputs": [
    {
     "name": "stdout",
     "output_type": "stream",
     "text": [
      "Are the tf-idf scores the same? YES, they are\n"
     ]
    }
   ],
   "source": [
    "if np.allclose(tfidf_scores_transformed.todense(), tfidf_scores.todense()):\n",
    "    print('Are the tf-idf scores the same? YES, they are')\n",
    "else:\n",
    "    print('Are the tf-idf scores the same? No, something is wrong')\n"
   ]
  },
  {
   "cell_type": "code",
   "execution_count": 193,
   "id": "aa1f7427-e534-4fc6-bf03-1e3b878c11fa",
   "metadata": {},
   "outputs": [
    {
     "name": "stdout",
     "output_type": "stream",
     "text": [
      "['Article 1', 'Article 2', 'Article 3', 'Article 4', 'Article 5', 'Article 6', 'Article 7', 'Article 8', 'Article 9', 'Article 10', 'Article 11', 'Article 12', 'Article 13', 'Article 14', 'Article 15', 'Article 16', 'Article 17', 'Article 18', 'Article 19', 'Article 20', 'Article 21', 'Article 22', 'Article 23', 'Article 24', 'Article 25', 'Article 26', 'Article 27', 'Article 28', 'Article 29', 'Article 30', 'Article 31', 'Article 32', 'Article 33', 'Article 34', 'Article 35', 'Article 36', 'Article 37', 'Article 38', 'Article 39', 'Article 40', 'Article 41', 'Article 42', 'Article 43', 'Article 44', 'Article 45', 'Article 46', 'Article 47', 'Article 48', 'Article 49', 'Article 50', 'Article 51', 'Article 52', 'Article 53', 'Article 54', 'Article 55', 'Article 56', 'Article 57', 'Article 58', 'Article 59', 'Article 60', 'Article 61', 'Article 62', 'Article 63', 'Article 64', 'Article 65', 'Article 66', 'Article 67', 'Article 68', 'Article 69', 'Article 70', 'Article 71', 'Article 72', 'Article 73', 'Article 74', 'Article 75', 'Article 76', 'Article 77', 'Article 78', 'Article 79', 'Article 80', 'Article 81', 'Article 82', 'Article 83', 'Article 84', 'Article 85', 'Article 86', 'Article 87', 'Article 88', 'Article 89', 'Article 90', 'Article 91', 'Article 92', 'Article 93', 'Article 94', 'Article 95', 'Article 96', 'Article 97', 'Article 98', 'Article 99', 'Article 100', 'Article 101', 'Article 102', 'Article 103', 'Article 104', 'Article 105', 'Article 106', 'Article 107', 'Article 108', 'Article 109', 'Article 110', 'Article 111', 'Article 112', 'Article 113', 'Article 114', 'Article 115', 'Article 116', 'Article 117', 'Article 118', 'Article 119', 'Article 120', 'Article 121', 'Article 122', 'Article 123', 'Article 124', 'Article 125', 'Article 126', 'Article 127', 'Article 128', 'Article 129', 'Article 130', 'Article 131', 'Article 132', 'Article 133', 'Article 134', 'Article 135', 'Article 136', 'Article 137', 'Article 138', 'Article 139', 'Article 140', 'Article 141', 'Article 142', 'Article 143', 'Article 144', 'Article 145', 'Article 146', 'Article 147', 'Article 148', 'Article 149', 'Article 150', 'Article 151', 'Article 152', 'Article 153', 'Article 154', 'Article 155', 'Article 156', 'Article 157', 'Article 158', 'Article 159', 'Article 160', 'Article 161', 'Article 162', 'Article 163', 'Article 164', 'Article 165', 'Article 166', 'Article 167', 'Article 168', 'Article 169', 'Article 170', 'Article 171', 'Article 172', 'Article 173', 'Article 174', 'Article 175', 'Article 176', 'Article 177', 'Article 178', 'Article 179', 'Article 180', 'Article 181', 'Article 182', 'Article 183', 'Article 184', 'Article 185', 'Article 186', 'Article 187', 'Article 188', 'Article 189', 'Article 190', 'Article 191', 'Article 192', 'Article 193', 'Article 194', 'Article 195', 'Article 196', 'Article 197', 'Article 198', 'Article 199', 'Article 200', 'Article 201', 'Article 202', 'Article 203', 'Article 204', 'Article 205', 'Article 206', 'Article 207', 'Article 208', 'Article 209', 'Article 210', 'Article 211', 'Article 212', 'Article 213', 'Article 214', 'Article 215', 'Article 216', 'Article 217', 'Article 218', 'Article 219', 'Article 220', 'Article 221', 'Article 222', 'Article 223', 'Article 224', 'Article 225', 'Article 226', 'Article 227', 'Article 228', 'Article 229', 'Article 230', 'Article 231', 'Article 232', 'Article 233', 'Article 234', 'Article 235', 'Article 236', 'Article 237', 'Article 238', 'Article 239', 'Article 240', 'Article 241', 'Article 242', 'Article 243', 'Article 244', 'Article 245', 'Article 246', 'Article 247', 'Article 248', 'Article 249', 'Article 250', 'Article 251', 'Article 252', 'Article 253', 'Article 254', 'Article 255', 'Article 256', 'Article 257', 'Article 258', 'Article 259', 'Article 260', 'Article 261', 'Article 262', 'Article 263', 'Article 264', 'Article 265', 'Article 266', 'Article 267', 'Article 268', 'Article 269', 'Article 270', 'Article 271', 'Article 272', 'Article 273', 'Article 274', 'Article 275', 'Article 276', 'Article 277', 'Article 278', 'Article 279', 'Article 280', 'Article 281', 'Article 282', 'Article 283', 'Article 284', 'Article 285', 'Article 286', 'Article 287', 'Article 288', 'Article 289', 'Article 290', 'Article 291', 'Article 292', 'Article 293', 'Article 294', 'Article 295', 'Article 296', 'Article 297', 'Article 298', 'Article 299', 'Article 300', 'Article 301', 'Article 302', 'Article 303', 'Article 304', 'Article 305', 'Article 306', 'Article 307', 'Article 308', 'Article 309', 'Article 310', 'Article 311', 'Article 312', 'Article 313', 'Article 314', 'Article 315', 'Article 316', 'Article 317', 'Article 318', 'Article 319', 'Article 320', 'Article 321', 'Article 322', 'Article 323', 'Article 324', 'Article 325', 'Article 326', 'Article 327', 'Article 328', 'Article 329', 'Article 330', 'Article 331', 'Article 332', 'Article 333', 'Article 334', 'Article 335', 'Article 336', 'Article 337', 'Article 338', 'Article 339', 'Article 340', 'Article 341', 'Article 342', 'Article 343', 'Article 344', 'Article 345', 'Article 346', 'Article 347', 'Article 348', 'Article 349', 'Article 350', 'Article 351', 'Article 352', 'Article 353', 'Article 354', 'Article 355', 'Article 356', 'Article 357', 'Article 358', 'Article 359', 'Article 360', 'Article 361', 'Article 362', 'Article 363', 'Article 364', 'Article 365', 'Article 366', 'Article 367', 'Article 368', 'Article 369', 'Article 370', 'Article 371', 'Article 372', 'Article 373', 'Article 374', 'Article 375', 'Article 376', 'Article 377', 'Article 378', 'Article 379', 'Article 380', 'Article 381', 'Article 382', 'Article 383', 'Article 384', 'Article 385', 'Article 386', 'Article 387', 'Article 388', 'Article 389', 'Article 390', 'Article 391', 'Article 392', 'Article 393', 'Article 394', 'Article 395', 'Article 396', 'Article 397', 'Article 398', 'Article 399', 'Article 400', 'Article 401', 'Article 402', 'Article 403', 'Article 404', 'Article 405', 'Article 406', 'Article 407', 'Article 408', 'Article 409', 'Article 410', 'Article 411', 'Article 412', 'Article 413', 'Article 414', 'Article 415', 'Article 416', 'Article 417', 'Article 418', 'Article 419', 'Article 420', 'Article 421', 'Article 422', 'Article 423', 'Article 424', 'Article 425', 'Article 426', 'Article 427', 'Article 428', 'Article 429', 'Article 430', 'Article 431', 'Article 432', 'Article 433', 'Article 434', 'Article 435', 'Article 436', 'Article 437', 'Article 438', 'Article 439', 'Article 440', 'Article 441', 'Article 442', 'Article 443', 'Article 444', 'Article 445', 'Article 446', 'Article 447', 'Article 448', 'Article 449', 'Article 450', 'Article 451', 'Article 452', 'Article 453', 'Article 454', 'Article 455', 'Article 456', 'Article 457', 'Article 458', 'Article 459', 'Article 460', 'Article 461', 'Article 462', 'Article 463', 'Article 464', 'Article 465', 'Article 466', 'Article 467', 'Article 468', 'Article 469', 'Article 470', 'Article 471', 'Article 472', 'Article 473', 'Article 474', 'Article 475', 'Article 476', 'Article 477', 'Article 478', 'Article 479', 'Article 480', 'Article 481', 'Article 482', 'Article 483', 'Article 484', 'Article 485', 'Article 486', 'Article 487', 'Article 488', 'Article 489', 'Article 490', 'Article 491', 'Article 492', 'Article 493', 'Article 494', 'Article 495', 'Article 496', 'Article 497', 'Article 498', 'Article 499', 'Article 500', 'Article 501', 'Article 502', 'Article 503', 'Article 504', 'Article 505', 'Article 506', 'Article 507', 'Article 508', 'Article 509', 'Article 510', 'Article 511', 'Article 512', 'Article 513', 'Article 514', 'Article 515', 'Article 516', 'Article 517', 'Article 518', 'Article 519', 'Article 520', 'Article 521', 'Article 522', 'Article 523', 'Article 524', 'Article 525', 'Article 526', 'Article 527', 'Article 528', 'Article 529', 'Article 530', 'Article 531', 'Article 532', 'Article 533', 'Article 534', 'Article 535', 'Article 536', 'Article 537', 'Article 538', 'Article 539', 'Article 540', 'Article 541', 'Article 542', 'Article 543', 'Article 544', 'Article 545', 'Article 546', 'Article 547', 'Article 548', 'Article 549', 'Article 550', 'Article 551', 'Article 552', 'Article 553', 'Article 554', 'Article 555', 'Article 556', 'Article 557', 'Article 558', 'Article 559', 'Article 560', 'Article 561', 'Article 562', 'Article 563', 'Article 564', 'Article 565', 'Article 566', 'Article 567', 'Article 568', 'Article 569', 'Article 570', 'Article 571', 'Article 572', 'Article 573', 'Article 574', 'Article 575', 'Article 576', 'Article 577', 'Article 578', 'Article 579', 'Article 580', 'Article 581', 'Article 582', 'Article 583', 'Article 584', 'Article 585', 'Article 586', 'Article 587', 'Article 588', 'Article 589', 'Article 590', 'Article 591', 'Article 592', 'Article 593', 'Article 594', 'Article 595', 'Article 596', 'Article 597', 'Article 598', 'Article 599', 'Article 600', 'Article 601', 'Article 602', 'Article 603', 'Article 604', 'Article 605', 'Article 606', 'Article 607', 'Article 608', 'Article 609', 'Article 610', 'Article 611', 'Article 612', 'Article 613', 'Article 614', 'Article 615', 'Article 616', 'Article 617', 'Article 618', 'Article 619', 'Article 620', 'Article 621', 'Article 622', 'Article 623', 'Article 624', 'Article 625', 'Article 626', 'Article 627', 'Article 628', 'Article 629', 'Article 630', 'Article 631', 'Article 632', 'Article 633', 'Article 634', 'Article 635', 'Article 636', 'Article 637', 'Article 638', 'Article 639', 'Article 640', 'Article 641', 'Article 642', 'Article 643', 'Article 644', 'Article 645', 'Article 646', 'Article 647', 'Article 648', 'Article 649', 'Article 650', 'Article 651', 'Article 652', 'Article 653', 'Article 654', 'Article 655', 'Article 656', 'Article 657', 'Article 658', 'Article 659', 'Article 660', 'Article 661', 'Article 662', 'Article 663', 'Article 664', 'Article 665', 'Article 666', 'Article 667', 'Article 668', 'Article 669', 'Article 670', 'Article 671', 'Article 672', 'Article 673', 'Article 674', 'Article 675', 'Article 676', 'Article 677', 'Article 678', 'Article 679', 'Article 680', 'Article 681', 'Article 682', 'Article 683', 'Article 684', 'Article 685', 'Article 686', 'Article 687', 'Article 688', 'Article 689', 'Article 690', 'Article 691', 'Article 692', 'Article 693', 'Article 694', 'Article 695', 'Article 696', 'Article 697', 'Article 698', 'Article 699', 'Article 700', 'Article 701', 'Article 702', 'Article 703', 'Article 704', 'Article 705', 'Article 706', 'Article 707', 'Article 708', 'Article 709', 'Article 710', 'Article 711', 'Article 712', 'Article 713', 'Article 714', 'Article 715', 'Article 716', 'Article 717', 'Article 718', 'Article 719', 'Article 720', 'Article 721', 'Article 722', 'Article 723', 'Article 724', 'Article 725', 'Article 726', 'Article 727', 'Article 728', 'Article 729', 'Article 730', 'Article 731', 'Article 732', 'Article 733', 'Article 734', 'Article 735', 'Article 736', 'Article 737', 'Article 738', 'Article 739', 'Article 740', 'Article 741', 'Article 742', 'Article 743', 'Article 744', 'Article 745', 'Article 746', 'Article 747', 'Article 748', 'Article 749', 'Article 750', 'Article 751', 'Article 752', 'Article 753', 'Article 754', 'Article 755', 'Article 756', 'Article 757', 'Article 758', 'Article 759', 'Article 760', 'Article 761', 'Article 762', 'Article 763', 'Article 764', 'Article 765', 'Article 766', 'Article 767', 'Article 768', 'Article 769', 'Article 770', 'Article 771', 'Article 772', 'Article 773', 'Article 774', 'Article 775', 'Article 776', 'Article 777', 'Article 778', 'Article 779', 'Article 780', 'Article 781', 'Article 782', 'Article 783', 'Article 784', 'Article 785', 'Article 786', 'Article 787', 'Article 788', 'Article 789', 'Article 790', 'Article 791', 'Article 792', 'Article 793', 'Article 794', 'Article 795', 'Article 796', 'Article 797', 'Article 798', 'Article 799', 'Article 800', 'Article 801', 'Article 802', 'Article 803', 'Article 804', 'Article 805', 'Article 806', 'Article 807', 'Article 808', 'Article 809', 'Article 810', 'Article 811', 'Article 812', 'Article 813', 'Article 814', 'Article 815', 'Article 816', 'Article 817', 'Article 818', 'Article 819', 'Article 820', 'Article 821', 'Article 822', 'Article 823', 'Article 824', 'Article 825', 'Article 826', 'Article 827', 'Article 828', 'Article 829', 'Article 830', 'Article 831', 'Article 832', 'Article 833', 'Article 834', 'Article 835', 'Article 836', 'Article 837', 'Article 838', 'Article 839', 'Article 840', 'Article 841', 'Article 842', 'Article 843', 'Article 844', 'Article 845', 'Article 846', 'Article 847', 'Article 848', 'Article 849', 'Article 850', 'Article 851', 'Article 852', 'Article 853', 'Article 854', 'Article 855', 'Article 856', 'Article 857', 'Article 858', 'Article 859', 'Article 860', 'Article 861', 'Article 862', 'Article 863', 'Article 864', 'Article 865', 'Article 866', 'Article 867', 'Article 868', 'Article 869', 'Article 870', 'Article 871', 'Article 872', 'Article 873', 'Article 874', 'Article 875', 'Article 876', 'Article 877', 'Article 878', 'Article 879', 'Article 880', 'Article 881', 'Article 882', 'Article 883', 'Article 884', 'Article 885', 'Article 886', 'Article 887', 'Article 888', 'Article 889', 'Article 890', 'Article 891', 'Article 892', 'Article 893', 'Article 894', 'Article 895', 'Article 896', 'Article 897', 'Article 898', 'Article 899', 'Article 900', 'Article 901', 'Article 902', 'Article 903', 'Article 904', 'Article 905', 'Article 906', 'Article 907', 'Article 908', 'Article 909', 'Article 910', 'Article 911', 'Article 912', 'Article 913', 'Article 914', 'Article 915', 'Article 916', 'Article 917', 'Article 918', 'Article 919', 'Article 920', 'Article 921', 'Article 922', 'Article 923', 'Article 924', 'Article 925', 'Article 926', 'Article 927', 'Article 928', 'Article 929', 'Article 930', 'Article 931', 'Article 932', 'Article 933', 'Article 934', 'Article 935', 'Article 936', 'Article 937', 'Article 938', 'Article 939', 'Article 940', 'Article 941', 'Article 942', 'Article 943', 'Article 944', 'Article 945', 'Article 946', 'Article 947', 'Article 948', 'Article 949', 'Article 950', 'Article 951', 'Article 952', 'Article 953', 'Article 954', 'Article 955', 'Article 956', 'Article 957', 'Article 958', 'Article 959', 'Article 960', 'Article 961', 'Article 962', 'Article 963', 'Article 964', 'Article 965', 'Article 966', 'Article 967', 'Article 968', 'Article 969', 'Article 970', 'Article 971', 'Article 972', 'Article 973', 'Article 974', 'Article 975', 'Article 976', 'Article 977', 'Article 978', 'Article 979', 'Article 980', 'Article 981', 'Article 982', 'Article 983', 'Article 984', 'Article 985', 'Article 986', 'Article 987', 'Article 988', 'Article 989', 'Article 990', 'Article 991', 'Article 992', 'Article 993', 'Article 994', 'Article 995', 'Article 996', 'Article 997', 'Article 998', 'Article 999', 'Article 1000', 'Article 1001', 'Article 1002', 'Article 1003', 'Article 1004', 'Article 1005', 'Article 1006', 'Article 1007', 'Article 1008', 'Article 1009', 'Article 1010', 'Article 1011', 'Article 1012', 'Article 1013', 'Article 1014', 'Article 1015', 'Article 1016', 'Article 1017', 'Article 1018', 'Article 1019', 'Article 1020', 'Article 1021', 'Article 1022', 'Article 1023', 'Article 1024', 'Article 1025', 'Article 1026', 'Article 1027', 'Article 1028', 'Article 1029', 'Article 1030', 'Article 1031', 'Article 1032', 'Article 1033', 'Article 1034', 'Article 1035', 'Article 1036', 'Article 1037', 'Article 1038', 'Article 1039', 'Article 1040', 'Article 1041', 'Article 1042', 'Article 1043', 'Article 1044', 'Article 1045', 'Article 1046', 'Article 1047', 'Article 1048', 'Article 1049', 'Article 1050', 'Article 1051', 'Article 1052', 'Article 1053', 'Article 1054', 'Article 1055', 'Article 1056', 'Article 1057', 'Article 1058', 'Article 1059', 'Article 1060', 'Article 1061', 'Article 1062', 'Article 1063', 'Article 1064', 'Article 1065', 'Article 1066', 'Article 1067', 'Article 1068', 'Article 1069', 'Article 1070', 'Article 1071', 'Article 1072', 'Article 1073', 'Article 1074', 'Article 1075', 'Article 1076', 'Article 1077', 'Article 1078', 'Article 1079', 'Article 1080', 'Article 1081', 'Article 1082', 'Article 1083', 'Article 1084', 'Article 1085', 'Article 1086', 'Article 1087', 'Article 1088', 'Article 1089', 'Article 1090', 'Article 1091', 'Article 1092', 'Article 1093', 'Article 1094', 'Article 1095', 'Article 1096', 'Article 1097', 'Article 1098', 'Article 1099', 'Article 1100', 'Article 1101', 'Article 1102', 'Article 1103', 'Article 1104', 'Article 1105', 'Article 1106', 'Article 1107', 'Article 1108', 'Article 1109', 'Article 1110', 'Article 1111', 'Article 1112', 'Article 1113', 'Article 1114', 'Article 1115', 'Article 1116', 'Article 1117', 'Article 1118', 'Article 1119', 'Article 1120', 'Article 1121', 'Article 1122', 'Article 1123', 'Article 1124', 'Article 1125', 'Article 1126', 'Article 1127', 'Article 1128', 'Article 1129', 'Article 1130', 'Article 1131', 'Article 1132', 'Article 1133', 'Article 1134', 'Article 1135', 'Article 1136', 'Article 1137', 'Article 1138', 'Article 1139', 'Article 1140', 'Article 1141', 'Article 1142', 'Article 1143', 'Article 1144', 'Article 1145', 'Article 1146', 'Article 1147', 'Article 1148', 'Article 1149', 'Article 1150', 'Article 1151', 'Article 1152', 'Article 1153', 'Article 1154', 'Article 1155', 'Article 1156', 'Article 1157', 'Article 1158', 'Article 1159', 'Article 1160', 'Article 1161', 'Article 1162', 'Article 1163', 'Article 1164', 'Article 1165', 'Article 1166', 'Article 1167', 'Article 1168', 'Article 1169', 'Article 1170', 'Article 1171', 'Article 1172', 'Article 1173', 'Article 1174', 'Article 1175', 'Article 1176', 'Article 1177', 'Article 1178', 'Article 1179', 'Article 1180', 'Article 1181', 'Article 1182', 'Article 1183', 'Article 1184', 'Article 1185', 'Article 1186', 'Article 1187', 'Article 1188', 'Article 1189', 'Article 1190', 'Article 1191', 'Article 1192', 'Article 1193', 'Article 1194', 'Article 1195', 'Article 1196', 'Article 1197', 'Article 1198', 'Article 1199', 'Article 1200', 'Article 1201', 'Article 1202', 'Article 1203', 'Article 1204', 'Article 1205', 'Article 1206', 'Article 1207', 'Article 1208', 'Article 1209', 'Article 1210', 'Article 1211', 'Article 1212', 'Article 1213', 'Article 1214', 'Article 1215', 'Article 1216', 'Article 1217', 'Article 1218', 'Article 1219', 'Article 1220', 'Article 1221', 'Article 1222', 'Article 1223', 'Article 1224', 'Article 1225', 'Article 1226', 'Article 1227', 'Article 1228', 'Article 1229', 'Article 1230', 'Article 1231', 'Article 1232', 'Article 1233', 'Article 1234', 'Article 1235', 'Article 1236', 'Article 1237', 'Article 1238', 'Article 1239', 'Article 1240', 'Article 1241', 'Article 1242', 'Article 1243', 'Article 1244', 'Article 1245', 'Article 1246', 'Article 1247', 'Article 1248', 'Article 1249', 'Article 1250', 'Article 1251', 'Article 1252', 'Article 1253', 'Article 1254', 'Article 1255', 'Article 1256', 'Article 1257', 'Article 1258', 'Article 1259', 'Article 1260', 'Article 1261', 'Article 1262', 'Article 1263', 'Article 1264', 'Article 1265', 'Article 1266', 'Article 1267', 'Article 1268', 'Article 1269', 'Article 1270', 'Article 1271', 'Article 1272', 'Article 1273', 'Article 1274', 'Article 1275', 'Article 1276', 'Article 1277', 'Article 1278', 'Article 1279', 'Article 1280', 'Article 1281', 'Article 1282', 'Article 1283', 'Article 1284', 'Article 1285', 'Article 1286', 'Article 1287', 'Article 1288', 'Article 1289', 'Article 1290', 'Article 1291', 'Article 1292', 'Article 1293', 'Article 1294', 'Article 1295', 'Article 1296', 'Article 1297', 'Article 1298', 'Article 1299', 'Article 1300', 'Article 1301', 'Article 1302', 'Article 1303', 'Article 1304', 'Article 1305', 'Article 1306', 'Article 1307', 'Article 1308', 'Article 1309', 'Article 1310', 'Article 1311', 'Article 1312', 'Article 1313', 'Article 1314', 'Article 1315', 'Article 1316', 'Article 1317', 'Article 1318', 'Article 1319', 'Article 1320', 'Article 1321', 'Article 1322', 'Article 1323', 'Article 1324', 'Article 1325', 'Article 1326', 'Article 1327', 'Article 1328', 'Article 1329', 'Article 1330', 'Article 1331', 'Article 1332', 'Article 1333', 'Article 1334', 'Article 1335', 'Article 1336', 'Article 1337', 'Article 1338', 'Article 1339', 'Article 1340', 'Article 1341', 'Article 1342', 'Article 1343', 'Article 1344', 'Article 1345', 'Article 1346', 'Article 1347', 'Article 1348', 'Article 1349', 'Article 1350', 'Article 1351', 'Article 1352', 'Article 1353', 'Article 1354', 'Article 1355', 'Article 1356', 'Article 1357', 'Article 1358', 'Article 1359', 'Article 1360', 'Article 1361', 'Article 1362', 'Article 1363', 'Article 1364', 'Article 1365', 'Article 1366', 'Article 1367', 'Article 1368', 'Article 1369', 'Article 1370', 'Article 1371', 'Article 1372', 'Article 1373', 'Article 1374', 'Article 1375', 'Article 1376', 'Article 1377', 'Article 1378', 'Article 1379', 'Article 1380', 'Article 1381', 'Article 1382', 'Article 1383', 'Article 1384', 'Article 1385', 'Article 1386', 'Article 1387', 'Article 1388', 'Article 1389', 'Article 1390', 'Article 1391', 'Article 1392', 'Article 1393', 'Article 1394', 'Article 1395', 'Article 1396', 'Article 1397', 'Article 1398', 'Article 1399', 'Article 1400', 'Article 1401', 'Article 1402', 'Article 1403', 'Article 1404', 'Article 1405', 'Article 1406', 'Article 1407', 'Article 1408', 'Article 1409', 'Article 1410', 'Article 1411', 'Article 1412', 'Article 1413', 'Article 1414', 'Article 1415', 'Article 1416', 'Article 1417', 'Article 1418', 'Article 1419', 'Article 1420', 'Article 1421', 'Article 1422', 'Article 1423', 'Article 1424', 'Article 1425', 'Article 1426', 'Article 1427', 'Article 1428', 'Article 1429', 'Article 1430', 'Article 1431', 'Article 1432', 'Article 1433', 'Article 1434', 'Article 1435', 'Article 1436', 'Article 1437', 'Article 1438', 'Article 1439', 'Article 1440', 'Article 1441', 'Article 1442', 'Article 1443', 'Article 1444', 'Article 1445', 'Article 1446', 'Article 1447', 'Article 1448', 'Article 1449', 'Article 1450', 'Article 1451', 'Article 1452', 'Article 1453', 'Article 1454', 'Article 1455', 'Article 1456', 'Article 1457', 'Article 1458', 'Article 1459', 'Article 1460', 'Article 1461', 'Article 1462', 'Article 1463', 'Article 1464', 'Article 1465', 'Article 1466', 'Article 1467', 'Article 1468', 'Article 1469', 'Article 1470', 'Article 1471', 'Article 1472', 'Article 1473', 'Article 1474', 'Article 1475', 'Article 1476', 'Article 1477', 'Article 1478', 'Article 1479', 'Article 1480', 'Article 1481', 'Article 1482', 'Article 1483', 'Article 1484', 'Article 1485', 'Article 1486', 'Article 1487', 'Article 1488', 'Article 1489', 'Article 1490', 'Article 1491', 'Article 1492', 'Article 1493', 'Article 1494', 'Article 1495', 'Article 1496', 'Article 1497', 'Article 1498', 'Article 1499', 'Article 1500', 'Article 1501', 'Article 1502', 'Article 1503', 'Article 1504', 'Article 1505', 'Article 1506', 'Article 1507', 'Article 1508', 'Article 1509', 'Article 1510', 'Article 1511', 'Article 1512', 'Article 1513', 'Article 1514', 'Article 1515', 'Article 1516', 'Article 1517', 'Article 1518', 'Article 1519', 'Article 1520', 'Article 1521', 'Article 1522', 'Article 1523', 'Article 1524', 'Article 1525', 'Article 1526', 'Article 1527', 'Article 1528', 'Article 1529', 'Article 1530', 'Article 1531', 'Article 1532', 'Article 1533', 'Article 1534', 'Article 1535', 'Article 1536', 'Article 1537', 'Article 1538', 'Article 1539', 'Article 1540', 'Article 1541', 'Article 1542', 'Article 1543', 'Article 1544', 'Article 1545', 'Article 1546', 'Article 1547', 'Article 1548', 'Article 1549', 'Article 1550', 'Article 1551', 'Article 1552', 'Article 1553', 'Article 1554', 'Article 1555', 'Article 1556', 'Article 1557', 'Article 1558', 'Article 1559', 'Article 1560', 'Article 1561', 'Article 1562', 'Article 1563', 'Article 1564', 'Article 1565', 'Article 1566', 'Article 1567', 'Article 1568', 'Article 1569', 'Article 1570', 'Article 1571', 'Article 1572', 'Article 1573', 'Article 1574', 'Article 1575', 'Article 1576', 'Article 1577', 'Article 1578', 'Article 1579', 'Article 1580', 'Article 1581', 'Article 1582', 'Article 1583', 'Article 1584', 'Article 1585', 'Article 1586', 'Article 1587', 'Article 1588', 'Article 1589', 'Article 1590', 'Article 1591', 'Article 1592', 'Article 1593', 'Article 1594', 'Article 1595', 'Article 1596', 'Article 1597', 'Article 1598', 'Article 1599', 'Article 1600', 'Article 1601', 'Article 1602', 'Article 1603', 'Article 1604', 'Article 1605', 'Article 1606', 'Article 1607', 'Article 1608', 'Article 1609', 'Article 1610', 'Article 1611', 'Article 1612', 'Article 1613', 'Article 1614', 'Article 1615', 'Article 1616', 'Article 1617', 'Article 1618', 'Article 1619', 'Article 1620', 'Article 1621', 'Article 1622', 'Article 1623', 'Article 1624', 'Article 1625', 'Article 1626', 'Article 1627', 'Article 1628', 'Article 1629', 'Article 1630', 'Article 1631', 'Article 1632', 'Article 1633', 'Article 1634', 'Article 1635', 'Article 1636', 'Article 1637', 'Article 1638', 'Article 1639', 'Article 1640', 'Article 1641', 'Article 1642', 'Article 1643', 'Article 1644', 'Article 1645', 'Article 1646', 'Article 1647', 'Article 1648', 'Article 1649', 'Article 1650', 'Article 1651', 'Article 1652', 'Article 1653', 'Article 1654', 'Article 1655', 'Article 1656', 'Article 1657', 'Article 1658', 'Article 1659', 'Article 1660', 'Article 1661', 'Article 1662', 'Article 1663', 'Article 1664', 'Article 1665', 'Article 1666', 'Article 1667', 'Article 1668', 'Article 1669', 'Article 1670', 'Article 1671', 'Article 1672', 'Article 1673', 'Article 1674', 'Article 1675', 'Article 1676', 'Article 1677', 'Article 1678', 'Article 1679', 'Article 1680', 'Article 1681', 'Article 1682', 'Article 1683', 'Article 1684', 'Article 1685', 'Article 1686', 'Article 1687', 'Article 1688', 'Article 1689', 'Article 1690', 'Article 1691', 'Article 1692', 'Article 1693', 'Article 1694', 'Article 1695', 'Article 1696', 'Article 1697', 'Article 1698', 'Article 1699', 'Article 1700', 'Article 1701', 'Article 1702', 'Article 1703', 'Article 1704', 'Article 1705', 'Article 1706', 'Article 1707', 'Article 1708', 'Article 1709', 'Article 1710', 'Article 1711', 'Article 1712', 'Article 1713', 'Article 1714', 'Article 1715', 'Article 1716', 'Article 1717', 'Article 1718', 'Article 1719', 'Article 1720', 'Article 1721', 'Article 1722', 'Article 1723', 'Article 1724', 'Article 1725', 'Article 1726', 'Article 1727', 'Article 1728', 'Article 1729', 'Article 1730', 'Article 1731', 'Article 1732', 'Article 1733', 'Article 1734', 'Article 1735', 'Article 1736', 'Article 1737', 'Article 1738', 'Article 1739', 'Article 1740', 'Article 1741', 'Article 1742', 'Article 1743', 'Article 1744', 'Article 1745', 'Article 1746', 'Article 1747', 'Article 1748', 'Article 1749', 'Article 1750', 'Article 1751', 'Article 1752', 'Article 1753', 'Article 1754', 'Article 1755', 'Article 1756', 'Article 1757', 'Article 1758', 'Article 1759', 'Article 1760', 'Article 1761', 'Article 1762', 'Article 1763', 'Article 1764', 'Article 1765', 'Article 1766', 'Article 1767', 'Article 1768', 'Article 1769', 'Article 1770', 'Article 1771', 'Article 1772', 'Article 1773', 'Article 1774', 'Article 1775', 'Article 1776', 'Article 1777', 'Article 1778', 'Article 1779', 'Article 1780', 'Article 1781', 'Article 1782', 'Article 1783', 'Article 1784', 'Article 1785', 'Article 1786', 'Article 1787', 'Article 1788', 'Article 1789', 'Article 1790', 'Article 1791', 'Article 1792', 'Article 1793', 'Article 1794', 'Article 1795', 'Article 1796', 'Article 1797', 'Article 1798', 'Article 1799', 'Article 1800', 'Article 1801', 'Article 1802', 'Article 1803', 'Article 1804', 'Article 1805', 'Article 1806', 'Article 1807', 'Article 1808', 'Article 1809', 'Article 1810', 'Article 1811', 'Article 1812', 'Article 1813', 'Article 1814', 'Article 1815', 'Article 1816', 'Article 1817', 'Article 1818', 'Article 1819', 'Article 1820', 'Article 1821', 'Article 1822', 'Article 1823', 'Article 1824', 'Article 1825', 'Article 1826', 'Article 1827', 'Article 1828', 'Article 1829', 'Article 1830', 'Article 1831', 'Article 1832', 'Article 1833', 'Article 1834', 'Article 1835', 'Article 1836', 'Article 1837', 'Article 1838', 'Article 1839', 'Article 1840', 'Article 1841', 'Article 1842', 'Article 1843', 'Article 1844', 'Article 1845', 'Article 1846', 'Article 1847', 'Article 1848', 'Article 1849', 'Article 1850', 'Article 1851', 'Article 1852', 'Article 1853', 'Article 1854', 'Article 1855', 'Article 1856', 'Article 1857', 'Article 1858', 'Article 1859', 'Article 1860', 'Article 1861', 'Article 1862', 'Article 1863', 'Article 1864', 'Article 1865', 'Article 1866', 'Article 1867', 'Article 1868', 'Article 1869', 'Article 1870', 'Article 1871', 'Article 1872', 'Article 1873', 'Article 1874', 'Article 1875', 'Article 1876', 'Article 1877', 'Article 1878', 'Article 1879', 'Article 1880', 'Article 1881', 'Article 1882', 'Article 1883', 'Article 1884', 'Article 1885', 'Article 1886', 'Article 1887', 'Article 1888', 'Article 1889', 'Article 1890', 'Article 1891', 'Article 1892', 'Article 1893', 'Article 1894', 'Article 1895', 'Article 1896', 'Article 1897', 'Article 1898', 'Article 1899', 'Article 1900', 'Article 1901', 'Article 1902', 'Article 1903', 'Article 1904', 'Article 1905', 'Article 1906', 'Article 1907', 'Article 1908', 'Article 1909', 'Article 1910', 'Article 1911', 'Article 1912', 'Article 1913', 'Article 1914', 'Article 1915', 'Article 1916', 'Article 1917', 'Article 1918', 'Article 1919', 'Article 1920', 'Article 1921', 'Article 1922', 'Article 1923', 'Article 1924', 'Article 1925', 'Article 1926', 'Article 1927', 'Article 1928', 'Article 1929', 'Article 1930', 'Article 1931', 'Article 1932', 'Article 1933', 'Article 1934', 'Article 1935', 'Article 1936', 'Article 1937', 'Article 1938', 'Article 1939', 'Article 1940', 'Article 1941', 'Article 1942', 'Article 1943', 'Article 1944', 'Article 1945', 'Article 1946', 'Article 1947', 'Article 1948', 'Article 1949', 'Article 1950', 'Article 1951', 'Article 1952', 'Article 1953', 'Article 1954', 'Article 1955', 'Article 1956', 'Article 1957', 'Article 1958', 'Article 1959', 'Article 1960', 'Article 1961', 'Article 1962', 'Article 1963', 'Article 1964', 'Article 1965', 'Article 1966', 'Article 1967', 'Article 1968', 'Article 1969', 'Article 1970', 'Article 1971', 'Article 1972', 'Article 1973', 'Article 1974', 'Article 1975', 'Article 1976', 'Article 1977', 'Article 1978', 'Article 1979', 'Article 1980', 'Article 1981', 'Article 1982', 'Article 1983', 'Article 1984', 'Article 1985', 'Article 1986', 'Article 1987', 'Article 1988', 'Article 1989', 'Article 1990', 'Article 1991', 'Article 1992', 'Article 1993', 'Article 1994', 'Article 1995', 'Article 1996', 'Article 1997', 'Article 1998', 'Article 1999', 'Article 2000', 'Article 2001', 'Article 2002', 'Article 2003', 'Article 2004', 'Article 2005', 'Article 2006', 'Article 2007', 'Article 2008', 'Article 2009', 'Article 2010', 'Article 2011', 'Article 2012', 'Article 2013', 'Article 2014', 'Article 2015', 'Article 2016', 'Article 2017', 'Article 2018', 'Article 2019', 'Article 2020', 'Article 2021', 'Article 2022', 'Article 2023', 'Article 2024', 'Article 2025', 'Article 2026', 'Article 2027', 'Article 2028', 'Article 2029', 'Article 2030', 'Article 2031', 'Article 2032', 'Article 2033', 'Article 2034', 'Article 2035', 'Article 2036', 'Article 2037', 'Article 2038', 'Article 2039', 'Article 2040', 'Article 2041', 'Article 2042', 'Article 2043', 'Article 2044', 'Article 2045', 'Article 2046', 'Article 2047', 'Article 2048', 'Article 2049', 'Article 2050', 'Article 2051', 'Article 2052', 'Article 2053', 'Article 2054', 'Article 2055', 'Article 2056', 'Article 2057', 'Article 2058', 'Article 2059', 'Article 2060', 'Article 2061', 'Article 2062', 'Article 2063', 'Article 2064', 'Article 2065', 'Article 2066', 'Article 2067', 'Article 2068', 'Article 2069', 'Article 2070', 'Article 2071', 'Article 2072', 'Article 2073', 'Article 2074', 'Article 2075', 'Article 2076', 'Article 2077', 'Article 2078', 'Article 2079', 'Article 2080', 'Article 2081', 'Article 2082', 'Article 2083', 'Article 2084', 'Article 2085', 'Article 2086', 'Article 2087', 'Article 2088', 'Article 2089', 'Article 2090', 'Article 2091', 'Article 2092', 'Article 2093', 'Article 2094', 'Article 2095', 'Article 2096', 'Article 2097', 'Article 2098', 'Article 2099', 'Article 2100', 'Article 2101', 'Article 2102', 'Article 2103', 'Article 2104', 'Article 2105', 'Article 2106', 'Article 2107', 'Article 2108', 'Article 2109', 'Article 2110', 'Article 2111', 'Article 2112', 'Article 2113', 'Article 2114', 'Article 2115', 'Article 2116', 'Article 2117', 'Article 2118', 'Article 2119', 'Article 2120', 'Article 2121', 'Article 2122', 'Article 2123', 'Article 2124', 'Article 2125', 'Article 2126', 'Article 2127', 'Article 2128', 'Article 2129', 'Article 2130', 'Article 2131', 'Article 2132', 'Article 2133', 'Article 2134', 'Article 2135', 'Article 2136', 'Article 2137', 'Article 2138', 'Article 2139', 'Article 2140', 'Article 2141', 'Article 2142', 'Article 2143', 'Article 2144', 'Article 2145', 'Article 2146', 'Article 2147', 'Article 2148', 'Article 2149', 'Article 2150', 'Article 2151', 'Article 2152', 'Article 2153', 'Article 2154', 'Article 2155', 'Article 2156', 'Article 2157', 'Article 2158', 'Article 2159', 'Article 2160', 'Article 2161', 'Article 2162', 'Article 2163', 'Article 2164', 'Article 2165', 'Article 2166', 'Article 2167', 'Article 2168', 'Article 2169', 'Article 2170', 'Article 2171', 'Article 2172', 'Article 2173', 'Article 2174', 'Article 2175', 'Article 2176', 'Article 2177', 'Article 2178', 'Article 2179', 'Article 2180', 'Article 2181', 'Article 2182', 'Article 2183', 'Article 2184', 'Article 2185', 'Article 2186', 'Article 2187', 'Article 2188', 'Article 2189', 'Article 2190', 'Article 2191', 'Article 2192', 'Article 2193', 'Article 2194', 'Article 2195', 'Article 2196', 'Article 2197', 'Article 2198', 'Article 2199', 'Article 2200', 'Article 2201', 'Article 2202', 'Article 2203', 'Article 2204', 'Article 2205', 'Article 2206', 'Article 2207', 'Article 2208', 'Article 2209', 'Article 2210', 'Article 2211', 'Article 2212', 'Article 2213', 'Article 2214', 'Article 2215', 'Article 2216', 'Article 2217', 'Article 2218', 'Article 2219', 'Article 2220', 'Article 2221', 'Article 2222', 'Article 2223', 'Article 2224', 'Article 2225', 'Article 2226', 'Article 2227', 'Article 2228', 'Article 2229', 'Article 2230', 'Article 2231', 'Article 2232', 'Article 2233', 'Article 2234', 'Article 2235', 'Article 2236', 'Article 2237', 'Article 2238', 'Article 2239', 'Article 2240', 'Article 2241', 'Article 2242', 'Article 2243', 'Article 2244', 'Article 2245', 'Article 2246', 'Article 2247', 'Article 2248', 'Article 2249', 'Article 2250', 'Article 2251', 'Article 2252', 'Article 2253', 'Article 2254', 'Article 2255', 'Article 2256', 'Article 2257', 'Article 2258', 'Article 2259', 'Article 2260', 'Article 2261', 'Article 2262', 'Article 2263', 'Article 2264', 'Article 2265', 'Article 2266', 'Article 2267', 'Article 2268', 'Article 2269', 'Article 2270', 'Article 2271', 'Article 2272', 'Article 2273', 'Article 2274', 'Article 2275', 'Article 2276', 'Article 2277', 'Article 2278', 'Article 2279', 'Article 2280', 'Article 2281', 'Article 2282', 'Article 2283', 'Article 2284', 'Article 2285', 'Article 2286', 'Article 2287', 'Article 2288', 'Article 2289', 'Article 2290', 'Article 2291', 'Article 2292', 'Article 2293', 'Article 2294', 'Article 2295', 'Article 2296', 'Article 2297', 'Article 2298', 'Article 2299', 'Article 2300', 'Article 2301', 'Article 2302', 'Article 2303', 'Article 2304', 'Article 2305', 'Article 2306', 'Article 2307', 'Article 2308', 'Article 2309', 'Article 2310', 'Article 2311', 'Article 2312', 'Article 2313', 'Article 2314', 'Article 2315', 'Article 2316', 'Article 2317', 'Article 2318', 'Article 2319', 'Article 2320', 'Article 2321', 'Article 2322', 'Article 2323', 'Article 2324', 'Article 2325', 'Article 2326', 'Article 2327', 'Article 2328', 'Article 2329', 'Article 2330', 'Article 2331', 'Article 2332', 'Article 2333', 'Article 2334', 'Article 2335', 'Article 2336', 'Article 2337', 'Article 2338', 'Article 2339', 'Article 2340', 'Article 2341', 'Article 2342', 'Article 2343', 'Article 2344', 'Article 2345', 'Article 2346', 'Article 2347', 'Article 2348', 'Article 2349', 'Article 2350', 'Article 2351', 'Article 2352', 'Article 2353', 'Article 2354', 'Article 2355', 'Article 2356', 'Article 2357', 'Article 2358', 'Article 2359', 'Article 2360', 'Article 2361', 'Article 2362', 'Article 2363', 'Article 2364', 'Article 2365', 'Article 2366', 'Article 2367', 'Article 2368', 'Article 2369', 'Article 2370', 'Article 2371', 'Article 2372', 'Article 2373', 'Article 2374', 'Article 2375', 'Article 2376', 'Article 2377', 'Article 2378', 'Article 2379', 'Article 2380', 'Article 2381', 'Article 2382', 'Article 2383', 'Article 2384', 'Article 2385', 'Article 2386', 'Article 2387', 'Article 2388', 'Article 2389', 'Article 2390', 'Article 2391', 'Article 2392', 'Article 2393', 'Article 2394', 'Article 2395', 'Article 2396', 'Article 2397', 'Article 2398', 'Article 2399', 'Article 2400', 'Article 2401', 'Article 2402', 'Article 2403', 'Article 2404', 'Article 2405', 'Article 2406', 'Article 2407', 'Article 2408', 'Article 2409', 'Article 2410', 'Article 2411', 'Article 2412', 'Article 2413', 'Article 2414', 'Article 2415', 'Article 2416', 'Article 2417', 'Article 2418', 'Article 2419', 'Article 2420', 'Article 2421', 'Article 2422', 'Article 2423', 'Article 2424', 'Article 2425', 'Article 2426', 'Article 2427', 'Article 2428', 'Article 2429', 'Article 2430', 'Article 2431', 'Article 2432', 'Article 2433', 'Article 2434', 'Article 2435', 'Article 2436', 'Article 2437', 'Article 2438', 'Article 2439', 'Article 2440', 'Article 2441', 'Article 2442', 'Article 2443', 'Article 2444', 'Article 2445', 'Article 2446', 'Article 2447', 'Article 2448', 'Article 2449', 'Article 2450', 'Article 2451', 'Article 2452', 'Article 2453', 'Article 2454', 'Article 2455', 'Article 2456', 'Article 2457', 'Article 2458', 'Article 2459', 'Article 2460', 'Article 2461', 'Article 2462', 'Article 2463', 'Article 2464', 'Article 2465', 'Article 2466', 'Article 2467', 'Article 2468', 'Article 2469', 'Article 2470', 'Article 2471', 'Article 2472', 'Article 2473', 'Article 2474', 'Article 2475', 'Article 2476', 'Article 2477', 'Article 2478', 'Article 2479', 'Article 2480', 'Article 2481', 'Article 2482', 'Article 2483', 'Article 2484', 'Article 2485', 'Article 2486', 'Article 2487', 'Article 2488', 'Article 2489', 'Article 2490', 'Article 2491', 'Article 2492', 'Article 2493', 'Article 2494', 'Article 2495', 'Article 2496', 'Article 2497', 'Article 2498', 'Article 2499', 'Article 2500', 'Article 2501', 'Article 2502', 'Article 2503', 'Article 2504', 'Article 2505', 'Article 2506', 'Article 2507', 'Article 2508', 'Article 2509', 'Article 2510', 'Article 2511', 'Article 2512', 'Article 2513', 'Article 2514', 'Article 2515', 'Article 2516', 'Article 2517', 'Article 2518', 'Article 2519', 'Article 2520', 'Article 2521', 'Article 2522', 'Article 2523', 'Article 2524', 'Article 2525', 'Article 2526', 'Article 2527', 'Article 2528', 'Article 2529', 'Article 2530', 'Article 2531', 'Article 2532', 'Article 2533', 'Article 2534', 'Article 2535', 'Article 2536', 'Article 2537', 'Article 2538', 'Article 2539', 'Article 2540', 'Article 2541', 'Article 2542', 'Article 2543', 'Article 2544', 'Article 2545', 'Article 2546', 'Article 2547', 'Article 2548', 'Article 2549', 'Article 2550', 'Article 2551', 'Article 2552', 'Article 2553', 'Article 2554', 'Article 2555', 'Article 2556', 'Article 2557', 'Article 2558', 'Article 2559', 'Article 2560', 'Article 2561', 'Article 2562', 'Article 2563', 'Article 2564', 'Article 2565', 'Article 2566', 'Article 2567', 'Article 2568', 'Article 2569', 'Article 2570', 'Article 2571', 'Article 2572', 'Article 2573', 'Article 2574', 'Article 2575', 'Article 2576', 'Article 2577', 'Article 2578', 'Article 2579', 'Article 2580', 'Article 2581', 'Article 2582', 'Article 2583', 'Article 2584', 'Article 2585', 'Article 2586', 'Article 2587', 'Article 2588', 'Article 2589', 'Article 2590', 'Article 2591', 'Article 2592', 'Article 2593', 'Article 2594', 'Article 2595', 'Article 2596', 'Article 2597', 'Article 2598', 'Article 2599', 'Article 2600', 'Article 2601', 'Article 2602', 'Article 2603', 'Article 2604', 'Article 2605', 'Article 2606', 'Article 2607', 'Article 2608', 'Article 2609', 'Article 2610', 'Article 2611', 'Article 2612', 'Article 2613', 'Article 2614', 'Article 2615', 'Article 2616', 'Article 2617', 'Article 2618', 'Article 2619', 'Article 2620', 'Article 2621', 'Article 2622', 'Article 2623', 'Article 2624', 'Article 2625', 'Article 2626', 'Article 2627', 'Article 2628', 'Article 2629', 'Article 2630', 'Article 2631', 'Article 2632', 'Article 2633', 'Article 2634', 'Article 2635', 'Article 2636', 'Article 2637', 'Article 2638', 'Article 2639', 'Article 2640', 'Article 2641', 'Article 2642', 'Article 2643', 'Article 2644', 'Article 2645', 'Article 2646', 'Article 2647', 'Article 2648', 'Article 2649', 'Article 2650', 'Article 2651', 'Article 2652', 'Article 2653', 'Article 2654', 'Article 2655', 'Article 2656', 'Article 2657', 'Article 2658', 'Article 2659', 'Article 2660', 'Article 2661', 'Article 2662', 'Article 2663', 'Article 2664', 'Article 2665', 'Article 2666', 'Article 2667', 'Article 2668', 'Article 2669', 'Article 2670', 'Article 2671', 'Article 2672', 'Article 2673', 'Article 2674', 'Article 2675', 'Article 2676', 'Article 2677', 'Article 2678', 'Article 2679', 'Article 2680', 'Article 2681', 'Article 2682', 'Article 2683', 'Article 2684', 'Article 2685', 'Article 2686', 'Article 2687', 'Article 2688', 'Article 2689', 'Article 2690', 'Article 2691', 'Article 2692']\n"
     ]
    }
   ],
   "source": [
    "feature_names = vectorizer.get_feature_names_out()\n",
    "article_index = [f\"Article {i+1}\" for i in range(len(articles))]\n",
    "print(article_index)"
   ]
  },
  {
   "cell_type": "markdown",
   "id": "3c670c78-fe4c-48de-af1c-b9a3118b86c3",
   "metadata": {},
   "source": [
    "**7. Create pandas DataFrame with word counts**"
   ]
  },
  {
   "cell_type": "code",
   "execution_count": 194,
   "id": "d801555e-a919-412a-beb6-f21e4b2a4e95",
   "metadata": {},
   "outputs": [
    {
     "name": "stdout",
     "output_type": "stream",
     "text": [
      "              Article 1  Article 2  Article 3  Article 4  Article 5  \\\n",
      "__cf_email__          0          0          0          0          0   \n",
      "a300                  0          0          0          0          0   \n",
      "a320                  0          0          0          0          0   \n",
      "a321                  0          0          0          0          0   \n",
      "a330                  0          0          0          0          0   \n",
      "...                 ...        ...        ...        ...        ...   \n",
      "zverev                0          0          0          0          0   \n",
      "zvereva               0          0          0          0          0   \n",
      "zyl                   0          0          0          0          0   \n",
      "étienne               0          0          0          0          0   \n",
      "über                  0          0          0          0          0   \n",
      "\n",
      "              Article 6  Article 7  Article 8  Article 9  Article 10  ...  \\\n",
      "__cf_email__          0          0          0          0           0  ...   \n",
      "a300                  0          0          0          0           0  ...   \n",
      "a320                  0          0          0          0           0  ...   \n",
      "a321                  0          0          0          0           0  ...   \n",
      "a330                  0          0          0          0           0  ...   \n",
      "...                 ...        ...        ...        ...         ...  ...   \n",
      "zverev                0          0          0          0           0  ...   \n",
      "zvereva               0          0          0          0           0  ...   \n",
      "zyl                   0          0          0          0           0  ...   \n",
      "étienne               0          0          0          0           0  ...   \n",
      "über                  0          0          0          0           0  ...   \n",
      "\n",
      "              Article 2683  Article 2684  Article 2685  Article 2686  \\\n",
      "__cf_email__             0             0             0             0   \n",
      "a300                     0             0             0             0   \n",
      "a320                     0             0             0             0   \n",
      "a321                     0             0             0             0   \n",
      "a330                     0             0             0             0   \n",
      "...                    ...           ...           ...           ...   \n",
      "zverev                   0             0             0             0   \n",
      "zvereva                  0             0             0             0   \n",
      "zyl                      0             0             0             0   \n",
      "étienne                  0             0             0             0   \n",
      "über                     0             0             0             0   \n",
      "\n",
      "              Article 2687  Article 2688  Article 2689  Article 2690  \\\n",
      "__cf_email__             0             0             0             0   \n",
      "a300                     0             0             0             0   \n",
      "a320                     0             0             0             0   \n",
      "a321                     0             0             0             0   \n",
      "a330                     0             0             0             0   \n",
      "...                    ...           ...           ...           ...   \n",
      "zverev                   0             0             0             0   \n",
      "zvereva                  0             0             0             0   \n",
      "zyl                      0             0             0             0   \n",
      "étienne                  0             0             0             0   \n",
      "über                     0             0             0             0   \n",
      "\n",
      "              Article 2691  Article 2692  \n",
      "__cf_email__             0             0  \n",
      "a300                     0             0  \n",
      "a320                     0             0  \n",
      "a321                     0             0  \n",
      "a330                     0             0  \n",
      "...                    ...           ...  \n",
      "zverev                   0             0  \n",
      "zvereva                  0             0  \n",
      "zyl                      0             0  \n",
      "étienne                  0             0  \n",
      "über                     0             0  \n",
      "\n",
      "[19795 rows x 2692 columns]\n"
     ]
    }
   ],
   "source": [
    "df_word_counts = pd.DataFrame(counts.T.todense(), index=feature_names, columns=article_index)\n",
    "print(df_word_counts)"
   ]
  },
  {
   "cell_type": "markdown",
   "id": "584350db-1c31-4015-aeb0-ef8cff46a89a",
   "metadata": {},
   "source": [
    "**8. Create pandas DataFrame with tf-idf scores**"
   ]
  },
  {
   "cell_type": "code",
   "execution_count": 195,
   "id": "775275b2-d8c0-4f21-9224-5a666e091a2a",
   "metadata": {},
   "outputs": [
    {
     "name": "stdout",
     "output_type": "stream",
     "text": [
      "              Article 1  Article 2  Article 3  Article 4  Article 5  \\\n",
      "__cf_email__        0.0        0.0        0.0        0.0        0.0   \n",
      "a300                0.0        0.0        0.0        0.0        0.0   \n",
      "a320                0.0        0.0        0.0        0.0        0.0   \n",
      "a321                0.0        0.0        0.0        0.0        0.0   \n",
      "a330                0.0        0.0        0.0        0.0        0.0   \n",
      "...                 ...        ...        ...        ...        ...   \n",
      "zverev              0.0        0.0        0.0        0.0        0.0   \n",
      "zvereva             0.0        0.0        0.0        0.0        0.0   \n",
      "zyl                 0.0        0.0        0.0        0.0        0.0   \n",
      "étienne             0.0        0.0        0.0        0.0        0.0   \n",
      "über                0.0        0.0        0.0        0.0        0.0   \n",
      "\n",
      "              Article 6  Article 7  Article 8  Article 9  Article 10  ...  \\\n",
      "__cf_email__        0.0        0.0        0.0        0.0         0.0  ...   \n",
      "a300                0.0        0.0        0.0        0.0         0.0  ...   \n",
      "a320                0.0        0.0        0.0        0.0         0.0  ...   \n",
      "a321                0.0        0.0        0.0        0.0         0.0  ...   \n",
      "a330                0.0        0.0        0.0        0.0         0.0  ...   \n",
      "...                 ...        ...        ...        ...         ...  ...   \n",
      "zverev              0.0        0.0        0.0        0.0         0.0  ...   \n",
      "zvereva             0.0        0.0        0.0        0.0         0.0  ...   \n",
      "zyl                 0.0        0.0        0.0        0.0         0.0  ...   \n",
      "étienne             0.0        0.0        0.0        0.0         0.0  ...   \n",
      "über                0.0        0.0        0.0        0.0         0.0  ...   \n",
      "\n",
      "              Article 2683  Article 2684  Article 2685  Article 2686  \\\n",
      "__cf_email__           0.0           0.0           0.0           0.0   \n",
      "a300                   0.0           0.0           0.0           0.0   \n",
      "a320                   0.0           0.0           0.0           0.0   \n",
      "a321                   0.0           0.0           0.0           0.0   \n",
      "a330                   0.0           0.0           0.0           0.0   \n",
      "...                    ...           ...           ...           ...   \n",
      "zverev                 0.0           0.0           0.0           0.0   \n",
      "zvereva                0.0           0.0           0.0           0.0   \n",
      "zyl                    0.0           0.0           0.0           0.0   \n",
      "étienne                0.0           0.0           0.0           0.0   \n",
      "über                   0.0           0.0           0.0           0.0   \n",
      "\n",
      "              Article 2687  Article 2688  Article 2689  Article 2690  \\\n",
      "__cf_email__           0.0           0.0           0.0           0.0   \n",
      "a300                   0.0           0.0           0.0           0.0   \n",
      "a320                   0.0           0.0           0.0           0.0   \n",
      "a321                   0.0           0.0           0.0           0.0   \n",
      "a330                   0.0           0.0           0.0           0.0   \n",
      "...                    ...           ...           ...           ...   \n",
      "zverev                 0.0           0.0           0.0           0.0   \n",
      "zvereva                0.0           0.0           0.0           0.0   \n",
      "zyl                    0.0           0.0           0.0           0.0   \n",
      "étienne                0.0           0.0           0.0           0.0   \n",
      "über                   0.0           0.0           0.0           0.0   \n",
      "\n",
      "              Article 2691  Article 2692  \n",
      "__cf_email__           0.0           0.0  \n",
      "a300                   0.0           0.0  \n",
      "a320                   0.0           0.0  \n",
      "a321                   0.0           0.0  \n",
      "a330                   0.0           0.0  \n",
      "...                    ...           ...  \n",
      "zverev                 0.0           0.0  \n",
      "zvereva                0.0           0.0  \n",
      "zyl                    0.0           0.0  \n",
      "étienne                0.0           0.0  \n",
      "über                   0.0           0.0  \n",
      "\n",
      "[19795 rows x 2692 columns]\n"
     ]
    }
   ],
   "source": [
    "df_tf_idf = pd.DataFrame(tfidf_scores_transformed.T.todense(), index=feature_names, columns=article_index)\n",
    "print(df_tf_idf)"
   ]
  },
  {
   "cell_type": "code",
   "execution_count": 196,
   "id": "24bb4827-20e8-4f70-a0b1-3abd34c17967",
   "metadata": {},
   "outputs": [
    {
     "name": "stdout",
     "output_type": "stream",
     "text": [
      "              Article 1  Article 2  Article 3  Article 4  Article 5  \\\n",
      "__cf_email__        0.0        0.0        0.0        0.0        0.0   \n",
      "a300                0.0        0.0        0.0        0.0        0.0   \n",
      "a320                0.0        0.0        0.0        0.0        0.0   \n",
      "a321                0.0        0.0        0.0        0.0        0.0   \n",
      "a330                0.0        0.0        0.0        0.0        0.0   \n",
      "...                 ...        ...        ...        ...        ...   \n",
      "zverev              0.0        0.0        0.0        0.0        0.0   \n",
      "zvereva             0.0        0.0        0.0        0.0        0.0   \n",
      "zyl                 0.0        0.0        0.0        0.0        0.0   \n",
      "étienne             0.0        0.0        0.0        0.0        0.0   \n",
      "über                0.0        0.0        0.0        0.0        0.0   \n",
      "\n",
      "              Article 6  Article 7  Article 8  Article 9  Article 10  ...  \\\n",
      "__cf_email__        0.0        0.0        0.0        0.0         0.0  ...   \n",
      "a300                0.0        0.0        0.0        0.0         0.0  ...   \n",
      "a320                0.0        0.0        0.0        0.0         0.0  ...   \n",
      "a321                0.0        0.0        0.0        0.0         0.0  ...   \n",
      "a330                0.0        0.0        0.0        0.0         0.0  ...   \n",
      "...                 ...        ...        ...        ...         ...  ...   \n",
      "zverev              0.0        0.0        0.0        0.0         0.0  ...   \n",
      "zvereva             0.0        0.0        0.0        0.0         0.0  ...   \n",
      "zyl                 0.0        0.0        0.0        0.0         0.0  ...   \n",
      "étienne             0.0        0.0        0.0        0.0         0.0  ...   \n",
      "über                0.0        0.0        0.0        0.0         0.0  ...   \n",
      "\n",
      "              Article 2683  Article 2684  Article 2685  Article 2686  \\\n",
      "__cf_email__           0.0           0.0           0.0           0.0   \n",
      "a300                   0.0           0.0           0.0           0.0   \n",
      "a320                   0.0           0.0           0.0           0.0   \n",
      "a321                   0.0           0.0           0.0           0.0   \n",
      "a330                   0.0           0.0           0.0           0.0   \n",
      "...                    ...           ...           ...           ...   \n",
      "zverev                 0.0           0.0           0.0           0.0   \n",
      "zvereva                0.0           0.0           0.0           0.0   \n",
      "zyl                    0.0           0.0           0.0           0.0   \n",
      "étienne                0.0           0.0           0.0           0.0   \n",
      "über                   0.0           0.0           0.0           0.0   \n",
      "\n",
      "              Article 2687  Article 2688  Article 2689  Article 2690  \\\n",
      "__cf_email__           0.0           0.0           0.0           0.0   \n",
      "a300                   0.0           0.0           0.0           0.0   \n",
      "a320                   0.0           0.0           0.0           0.0   \n",
      "a321                   0.0           0.0           0.0           0.0   \n",
      "a330                   0.0           0.0           0.0           0.0   \n",
      "...                    ...           ...           ...           ...   \n",
      "zverev                 0.0           0.0           0.0           0.0   \n",
      "zvereva                0.0           0.0           0.0           0.0   \n",
      "zyl                    0.0           0.0           0.0           0.0   \n",
      "étienne                0.0           0.0           0.0           0.0   \n",
      "über                   0.0           0.0           0.0           0.0   \n",
      "\n",
      "              Article 2691  Article 2692  \n",
      "__cf_email__           0.0           0.0  \n",
      "a300                   0.0           0.0  \n",
      "a320                   0.0           0.0  \n",
      "a321                   0.0           0.0  \n",
      "a330                   0.0           0.0  \n",
      "...                    ...           ...  \n",
      "zverev                 0.0           0.0  \n",
      "zvereva                0.0           0.0  \n",
      "zyl                    0.0           0.0  \n",
      "étienne                0.0           0.0  \n",
      "über                   0.0           0.0  \n",
      "\n",
      "[19795 rows x 2692 columns]\n"
     ]
    }
   ],
   "source": [
    "df_tf_idf_2 = pd.DataFrame(tfidf_scores.T.todense(), index=feature_names, columns=article_index)\n",
    "print(df_tf_idf_2)"
   ]
  },
  {
   "cell_type": "markdown",
   "id": "621c7886-0336-491a-b3b6-af5fcc3b5ada",
   "metadata": {},
   "source": [
    "### Print highest scoring term for each article, then download into file.txt"
   ]
  },
  {
   "cell_type": "code",
   "execution_count": 203,
   "id": "0e4db7b1-211c-40a9-9ad2-038745640f68",
   "metadata": {},
   "outputs": [
    {
     "name": "stdout",
     "output_type": "stream",
     "text": [
      "Highest tf-idf term for Article 1: fare\n",
      "\n",
      "Highest tf-idf term for Article 2: percent\n",
      "\n",
      "Highest tf-idf term for Article 3: hong\n",
      "\n",
      "Highest tf-idf term for Article 4: the\n",
      "\n",
      "Highest tf-idf term for Article 5: oil\n",
      "\n",
      "Highest tf-idf term for Article 6: arabia\n",
      "\n",
      "Highest tf-idf term for Article 7: kse\n",
      "\n",
      "Highest tf-idf term for Article 8: ang\n",
      "\n",
      "Highest tf-idf term for Article 9: sugar\n",
      "\n",
      "Highest tf-idf term for Article 10: oil\n",
      "\n",
      "Highest tf-idf term for Article 11: yen\n",
      "\n",
      "Highest tf-idf term for Article 12: hong\n",
      "\n",
      "Highest tf-idf term for Article 13: the\n",
      "\n",
      "Highest tf-idf term for Article 14: petrol\n",
      "\n",
      "Highest tf-idf term for Article 15: price\n",
      "\n",
      "Highest tf-idf term for Article 16: petrol\n",
      "\n",
      "Highest tf-idf term for Article 17: notification\n",
      "\n",
      "Highest tf-idf term for Article 18: percent\n",
      "\n",
      "Highest tf-idf term for Article 19: ecc\n",
      "\n",
      "Highest tf-idf term for Article 20: king\n",
      "\n"
     ]
    }
   ],
   "source": [
    "for i in range(0, 20):\n",
    "    highest_term = df_tf_idf[[f'Article {i+1}']].idxmax().values[0]\n",
    "    print(f\"Highest tf-idf term for Article {i+1}: {highest_term}\\n\")"
   ]
  },
  {
   "cell_type": "code",
   "execution_count": 204,
   "id": "ea8a0918-24bf-497d-9404-e78edcbbe9b6",
   "metadata": {},
   "outputs": [
    {
     "name": "stdout",
     "output_type": "stream",
     "text": [
      "Highest tf-idf terms saved to 'highest_score_articles.txt'\n"
     ]
    }
   ],
   "source": [
    "with open(\"highest_score_articles.txt\", \"w\") as file:\n",
    "    for i in range(len(articles)):\n",
    "        highest_term = df_tf_idf[[f'Article {i+1}']].idxmax().values[0]\n",
    "        file.write(f\"Highest tf-idf term for Article {i+1}: {highest_term}\\n\")\n",
    "\n",
    "print(\"Highest tf-idf terms saved to 'highest_score_articles.txt'\")"
   ]
  },
  {
   "cell_type": "code",
   "execution_count": null,
   "id": "bb970a0a-1ede-457a-84be-927ad11213e4",
   "metadata": {},
   "outputs": [],
   "source": []
  }
 ],
 "metadata": {
  "kernelspec": {
   "display_name": "Python 3 (ipykernel)",
   "language": "python",
   "name": "python3"
  },
  "language_info": {
   "codemirror_mode": {
    "name": "ipython",
    "version": 3
   },
   "file_extension": ".py",
   "mimetype": "text/x-python",
   "name": "python",
   "nbconvert_exporter": "python",
   "pygments_lexer": "ipython3",
   "version": "3.12.7"
  }
 },
 "nbformat": 4,
 "nbformat_minor": 5
}
